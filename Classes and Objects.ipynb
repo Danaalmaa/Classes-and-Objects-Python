{
 "cells": [
  {
   "cell_type": "code",
   "execution_count": 20,
   "id": "0b3e903c-85d8-4a7b-8bd3-01028d57b5f9",
   "metadata": {},
   "outputs": [
    {
     "name": "stdout",
     "output_type": "stream",
     "text": [
      "fruits 80 cal 0.67 cents\n",
      "Marymount university Food Bank\n",
      "True\n"
     ]
    }
   ],
   "source": [
    "#5lab\n",
    "class Food:\n",
    "    store_name = \"Marymount university Food Bank\"\n",
    "    def __init__(self, food_name,calories,cost):\n",
    "        self.food_name= food_name\n",
    "        self.calories= calories\n",
    "        self.cost= cost\n",
    "    def print_food(self):\n",
    "        print(f'{self.food_name} {self.calories} {self.cost}')\n",
    "    @classmethod\n",
    "    def print_store_name(cls):\n",
    "        print(cls.store_name)\n",
    "    @staticmethod\n",
    "    def is_low_calorie(c):\n",
    "        return c < 400\n",
    "   \n",
    "f1 = Food('fruits','80 cal','0.67 cents')\n",
    "f1.print_food()\n",
    "Food.print_store_name()\n",
    "print(Food.is_low_calorie(80))"
   ]
  },
  {
   "cell_type": "code",
   "execution_count": null,
   "id": "3408dbd8-8378-457c-b224-91613f277134",
   "metadata": {},
   "outputs": [],
   "source": []
  },
  {
   "cell_type": "code",
   "execution_count": null,
   "id": "63f51d16-5505-4df4-b44c-398333da47a5",
   "metadata": {},
   "outputs": [],
   "source": []
  }
 ],
 "metadata": {
  "kernelspec": {
   "display_name": "Python 3 (ipykernel)",
   "language": "python",
   "name": "python3"
  },
  "language_info": {
   "codemirror_mode": {
    "name": "ipython",
    "version": 3
   },
   "file_extension": ".py",
   "mimetype": "text/x-python",
   "name": "python",
   "nbconvert_exporter": "python",
   "pygments_lexer": "ipython3",
   "version": "3.10.6"
  }
 },
 "nbformat": 4,
 "nbformat_minor": 5
}
